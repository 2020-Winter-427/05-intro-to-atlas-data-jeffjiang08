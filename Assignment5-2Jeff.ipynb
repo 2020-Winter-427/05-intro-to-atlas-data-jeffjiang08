{
 "cells": [
  {
   "cell_type": "code",
   "execution_count": 67,
   "metadata": {},
   "outputs": [],
   "source": [
    "import uproot\n",
    "import uproot_methods\n",
    "import awkward\n",
    "import numpy as np\n",
    "import matplotlib\n",
    "import matplotlib.pyplot as plt\n",
    "import scipy\n",
    "import pandas as pd\n",
    "from scipy import stats\n",
    "from awkward import JaggedArray"
   ]
  },
  {
   "cell_type": "markdown",
   "metadata": {},
   "source": [
    "# Intro to ATLAS Data Second Notebook\n",
    "Jeff Jiang\n",
    "\n",
    "1840801\n",
    "\n",
    "In this part of the assignment, we start with a description of what Lorentz 4 vectors are. Continue with a description of invariant mass - in particular, and give the reason why calculate invariant mass is useful. \n",
    "\n",
    "Next, we do the invariant mass calculation for sample data and actual data of the Z boson mass. Put all the calculated mass in histogram. "
   ]
  },
  {
   "cell_type": "markdown",
   "metadata": {},
   "source": [
    "Lorentz four-vector is an object with four components, which transform in a specific way under Lorentz transformation. For space-time coordinates and the energy/momentum of a particle are often expressed in four-vector form. They are defined so that the length of a four-vector is invariant under a coordinate transformation. This invariance is associated with physical ideas. The invariance of the space-time four-vector is associated with the fact that the speed of light is constant. The invariance of the energy-momentum four-vector is associated with the fact that the rest mass of a particle is invariant under coordinate transformations.\n",
    "\n",
    "The invariant mass, in particular, is a characteristic of the system's total energy and momentum that is the same in all frames of reference related by Lorentz transformations.If a particle has energy E and momentum p, its invariant mass is given by $ m = \\frac{1}{c^2} \\sqrt{E^2−p^2c^2} $, where c is the speed of light.\n",
    "\n",
    "It is important to calculate invariant mass because if we have a heavy particle A decays to two very lightweight particles B and C, the invariant mass of particles B and C equals the mass of particle A. We can find the mass of particle A just by knowing energy of B and C. \n"
   ]
  },
  {
   "cell_type": "markdown",
   "metadata": {},
   "source": [
    "Below is the equation for finding the invariant mass with given panda data frame."
   ]
  },
  {
   "cell_type": "code",
   "execution_count": 68,
   "metadata": {},
   "outputs": [],
   "source": [
    "def Find_IM(trees):   \n",
    "    trees1 = trees[trees['lep_n'] == 2]    # only keep the data with number of leptons equal 2\n",
    "    treesA,treesB =trees1.iloc[::2],trees1.iloc[1::2]    # split the data to two data frame\n",
    "    treesA2,treesB2 = Check_lep_charge(treesA,treesB)    # use equation to check the leptons charge\n",
    "    treesA3,treesB3 = Check_lep_type(treesA2,treesB2)    # use equation to check the leptons type\n",
    "    treesA4 = treesA3.drop(columns = ['lep_n','lep_charge','lep_type','TF_charge','type_equ']).to_numpy()\n",
    "    treesB4 = treesB3.drop(columns = ['lep_n','lep_charge','lep_type','TF_charge','type_equ']).to_numpy()\n",
    "    IM = np.zeros(len(treesA4))\n",
    "    for i in range(len(treesA4)):   # for loop for caculating the invariant mass which is the as the mass if Z boson\n",
    "        lead = uproot_methods.TLorentzVector.from_ptetaphie(treesA4[i,0]/1000,treesA4[i,1],treesA4[i,2],treesA4[i,3]/1000)\n",
    "        tail = uproot_methods.TLorentzVector.from_ptetaphie(treesB4[i,0]/1000,treesB4[i,1],treesB4[i,2],treesB4[i,3]/1000)\n",
    "        inv_mass = lead + tail\n",
    "        IM[i]=inv_mass.mag\n",
    "    return (IM)"
   ]
  },
  {
   "cell_type": "markdown",
   "metadata": {},
   "source": [
    "Below is the equation for checking the charge of lepton. The charge of lepton must be different between two data frame. "
   ]
  },
  {
   "cell_type": "code",
   "execution_count": 69,
   "metadata": {},
   "outputs": [],
   "source": [
    "def Check_lep_charge(treesA,treesB):\n",
    "    test1 = treesA['lep_charge'].to_numpy() != treesB['lep_charge'].to_numpy()\n",
    "    treesA['TF_charge'] = 1*test1\n",
    "    treesB['TF_charge'] = 1*test1\n",
    "    treesA2 = treesA[treesA['TF_charge']==1]\n",
    "    treesB2 = treesB[treesB['TF_charge']==1]\n",
    "    return(treesA2,treesB2)"
   ]
  },
  {
   "cell_type": "markdown",
   "metadata": {},
   "source": [
    "Below is the equation for checking the type of lepton. The type of lepton must be same between two data frame. "
   ]
  },
  {
   "cell_type": "code",
   "execution_count": 70,
   "metadata": {},
   "outputs": [],
   "source": [
    "def Check_lep_type(treesA2,treesB2):\n",
    "    test2 = treesA2['lep_type'].to_numpy() == treesB2['lep_type'].to_numpy()\n",
    "    treesA2['type_equ'] = 1*test2\n",
    "    treesB2['type_equ'] = 1*test2\n",
    "    treesA3 = treesA2[treesA2['type_equ']==1]\n",
    "    treesB3 = treesB2[treesB2['type_equ']==1]\n",
    "    return(treesA3,treesB3)"
   ]
  },
  {
   "cell_type": "markdown",
   "metadata": {},
   "source": [
    "First, we have to open the root file with sample data that we want to analyze using uproot. "
   ]
  },
  {
   "cell_type": "code",
   "execution_count": 71,
   "metadata": {},
   "outputs": [],
   "source": [
    "f = uproot.open(\"http://opendata.atlas.cern/release/samples/MC/mc_105986.ZZ.root\")['mini']"
   ]
  },
  {
   "cell_type": "markdown",
   "metadata": {},
   "source": [
    "Next, we create a panda data frame using the sample root file that has the information we need for calculating the mass of Z boson."
   ]
  },
  {
   "cell_type": "code",
   "execution_count": 72,
   "metadata": {},
   "outputs": [],
   "source": [
    "trees = f.pandas.df(['lep_n', 'lep_charge', 'lep_type', 'lep_pt', 'lep_eta', 'lep_phi', 'lep_E'])"
   ]
  },
  {
   "cell_type": "markdown",
   "metadata": {},
   "source": [
    "We find the mass of Z boson in sample data using the equation.  "
   ]
  },
  {
   "cell_type": "code",
   "execution_count": 73,
   "metadata": {},
   "outputs": [
    {
     "name": "stderr",
     "output_type": "stream",
     "text": [
      "C:\\Users\\jeffj\\Anaconda3\\lib\\site-packages\\ipykernel_launcher.py:3: SettingWithCopyWarning: \n",
      "A value is trying to be set on a copy of a slice from a DataFrame.\n",
      "Try using .loc[row_indexer,col_indexer] = value instead\n",
      "\n",
      "See the caveats in the documentation: http://pandas.pydata.org/pandas-docs/stable/indexing.html#indexing-view-versus-copy\n",
      "  This is separate from the ipykernel package so we can avoid doing imports until\n",
      "C:\\Users\\jeffj\\Anaconda3\\lib\\site-packages\\ipykernel_launcher.py:4: SettingWithCopyWarning: \n",
      "A value is trying to be set on a copy of a slice from a DataFrame.\n",
      "Try using .loc[row_indexer,col_indexer] = value instead\n",
      "\n",
      "See the caveats in the documentation: http://pandas.pydata.org/pandas-docs/stable/indexing.html#indexing-view-versus-copy\n",
      "  after removing the cwd from sys.path.\n"
     ]
    }
   ],
   "source": [
    "IM = Find_IM(trees)"
   ]
  },
  {
   "cell_type": "markdown",
   "metadata": {},
   "source": [
    "We have to open the root file with actual data that we want to analyze using uproot. "
   ]
  },
  {
   "cell_type": "code",
   "execution_count": 84,
   "metadata": {},
   "outputs": [],
   "source": [
    "f2 =  uproot.open(\"data_A.2lep.root\")['mini']"
   ]
  },
  {
   "cell_type": "markdown",
   "metadata": {},
   "source": [
    "We create a panda data frame using the actual root file that has the information we need for calculating the mass of Z boson."
   ]
  },
  {
   "cell_type": "code",
   "execution_count": 85,
   "metadata": {},
   "outputs": [],
   "source": [
    "trees2 = f2.pandas.df(['lep_n', 'lep_charge', 'lep_type', 'lep_pt', 'lep_eta', 'lep_phi', 'lep_E'])"
   ]
  },
  {
   "cell_type": "markdown",
   "metadata": {},
   "source": [
    "We find the  mass of Z boson in actual data using the equation.  "
   ]
  },
  {
   "cell_type": "code",
   "execution_count": 87,
   "metadata": {},
   "outputs": [
    {
     "name": "stderr",
     "output_type": "stream",
     "text": [
      "C:\\Users\\jeffj\\Anaconda3\\lib\\site-packages\\ipykernel_launcher.py:3: SettingWithCopyWarning: \n",
      "A value is trying to be set on a copy of a slice from a DataFrame.\n",
      "Try using .loc[row_indexer,col_indexer] = value instead\n",
      "\n",
      "See the caveats in the documentation: http://pandas.pydata.org/pandas-docs/stable/indexing.html#indexing-view-versus-copy\n",
      "  This is separate from the ipykernel package so we can avoid doing imports until\n",
      "C:\\Users\\jeffj\\Anaconda3\\lib\\site-packages\\ipykernel_launcher.py:4: SettingWithCopyWarning: \n",
      "A value is trying to be set on a copy of a slice from a DataFrame.\n",
      "Try using .loc[row_indexer,col_indexer] = value instead\n",
      "\n",
      "See the caveats in the documentation: http://pandas.pydata.org/pandas-docs/stable/indexing.html#indexing-view-versus-copy\n",
      "  after removing the cwd from sys.path.\n"
     ]
    }
   ],
   "source": [
    "IM2 = Find_IM(trees2)"
   ]
  },
  {
   "cell_type": "markdown",
   "metadata": {},
   "source": [
    "Overlay the histogram plots with the sample and actual mass of the Z boson. "
   ]
  },
  {
   "cell_type": "code",
   "execution_count": 96,
   "metadata": {},
   "outputs": [
    {
     "data": {
      "image/png": "[encoded data removed]",
      "text/plain": [
       "<Figure size 432x288 with 1 Axes>"
      ]
     },
     "metadata": {
      "needs_background": "light"
     },
     "output_type": "display_data"
    }
   ],
   "source": [
    "fig, ax = plt.subplots(1, 1)\n",
    "ax.hist(IM,400,label = 'Sample',density = True, alpha=0.5)\n",
    "ax.hist(IM2,600,label = 'Actual',density = True, alpha=0.5)\n",
    "plt.title(\"Mass of the Z boson\")\n",
    "plt.xlabel('mass [GeV]')\n",
    "plt.ylabel('events')\n",
    "plt.xlim(0,200)\n",
    "plt.legend()\n",
    "plt.show()"
   ]
  },
  {
   "cell_type": "markdown",
   "metadata": {},
   "source": [
    "From what I see in the histogram, the sample data is a very good simulation of the actual data. "
   ]
  }
 ],
 "metadata": {
  "kernelspec": {
   "display_name": "Python 3",
   "language": "python",
   "name": "python3"
  },
  "language_info": {
   "codemirror_mode": {
    "name": "ipython",
    "version": 3
   },
   "file_extension": ".py",
   "mimetype": "text/x-python",
   "name": "python",
   "nbconvert_exporter": "python",
   "pygments_lexer": "ipython3",
   "version": "3.7.3"
  }
 },
 "nbformat": 4,
 "nbformat_minor": 4
}
